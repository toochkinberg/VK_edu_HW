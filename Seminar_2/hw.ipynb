{
 "cells": [
  {
   "cell_type": "markdown",
   "metadata": {},
   "source": [
    "# Has Cycle\n",
    "Дан односвязный список. Необходимо проверить, является ли этот список циклическим.\n",
    "\n",
    "Циклическим (кольцевым) списком называется список у которого последний узел ссылается на один из предыдущих узлов."
   ]
  },
  {
   "cell_type": "code",
   "execution_count": 74,
   "metadata": {},
   "outputs": [],
   "source": [
    "# Создадим класс для нод списка\n",
    "class ListNode:\n",
    "    def __init__(self, value=0, next=None):\n",
    "        self.value = value\n",
    "        self.next = next"
   ]
  },
  {
   "cell_type": "code",
   "execution_count": 75,
   "metadata": {},
   "outputs": [],
   "source": [
    "def hasCycle(head):\n",
    "    # Если список пустой или из одного элемента, то список не цикличный\n",
    "    if head == None or head.next == None:\n",
    "        return False\n",
    "    \n",
    "    # Задаём два указателя\n",
    "    slow = head\n",
    "    fast = head.next\n",
    "\n",
    "    # Двигаем указатели пока не кончится список, либо быстрый указатель не догонит медленный\n",
    "    while slow != fast:\n",
    "        if fast == None or fast.next == None:\n",
    "            return False\n",
    "        \n",
    "        slow = slow.next\n",
    "        fast = fast.next.next\n",
    "\n",
    "    return True"
   ]
  },
  {
   "cell_type": "code",
   "execution_count": 112,
   "metadata": {},
   "outputs": [
    {
     "name": "stdout",
     "output_type": "stream",
     "text": [
      "Мы молодцы, всё работает отлчино!\n"
     ]
    }
   ],
   "source": [
    "def test_hasCycle():\n",
    "    # Список без цикла\n",
    "    node5 = ListNode(5)\n",
    "    node4 = ListNode(4, next=node5)\n",
    "    node3 = ListNode(3, next=node4)\n",
    "    node2 = ListNode(2, next=node3)\n",
    "    node1 = ListNode(1, next=node2)\n",
    "\n",
    "    assert hasCycle(node1) == False\n",
    "\n",
    "\n",
    "    # Цикличный список\n",
    "    node5 = ListNode(5, next=node3)\n",
    "    node4 = ListNode(4, next=node5)\n",
    "    node3 = ListNode(3, next=node4)\n",
    "    node2 = ListNode(2, next=node3)\n",
    "    node1 = ListNode(1, next=node2)\n",
    "    node5.next = node2\n",
    "\n",
    "    assert hasCycle(node1) == True\n",
    "\n",
    "\n",
    "    # Пустой список\n",
    "    assert hasCycle(None) == False\n",
    "\n",
    "\n",
    "    # Список с единственной нодой\n",
    "    node1 = ListNode(1)\n",
    "\n",
    "    assert hasCycle(node1) == False\n",
    "\n",
    "\n",
    "    # Цикл с первой ноды\n",
    "    node1 = ListNode(1)\n",
    "    node2 = ListNode(2, next=node1)\n",
    "    node1.next = node1\n",
    "\n",
    "    assert hasCycle(node1) == True\n",
    "\n",
    "    print(\"Мы молодцы, всё работает отлчино!\")\n",
    "\n",
    "\n",
    "test_hasCycle()"
   ]
  },
  {
   "cell_type": "markdown",
   "metadata": {},
   "source": [
    "# Reverse Linked List\n",
    "Необходимо написать функцию, которая принимает на вход односвязный список и разворачивает его."
   ]
  },
  {
   "cell_type": "code",
   "execution_count": 77,
   "metadata": {},
   "outputs": [],
   "source": [
    "# Создадим класс для нод списка\n",
    "class ListNode:\n",
    "    def __init__(self, value=0, next=None):\n",
    "        self.value = value\n",
    "        self.next = next\n",
    "\n",
    "\n",
    "def create_linked_list(nums):\n",
    "    '''\n",
    "    Creates one-way linked list from nums\n",
    "\n",
    "    Return: head of result list\n",
    "    '''\n",
    "    if not nums:\n",
    "        return None\n",
    "    \n",
    "    head = ListNode(nums[0])\n",
    "    current = head\n",
    "\n",
    "    for val in nums[1:]:\n",
    "        current.next = ListNode(val)\n",
    "        current = current.next\n",
    "\n",
    "    return head"
   ]
  },
  {
   "cell_type": "code",
   "execution_count": 78,
   "metadata": {},
   "outputs": [],
   "source": [
    "def reverseLinkedList(head):\n",
    "    # Задаём указатели на текущий и предыдущий элементы\n",
    "    prev = None\n",
    "    current = head\n",
    "\n",
    "    # Проходимся по всему списку, пока он не кончится\n",
    "    while current != None:\n",
    "        # Сохраняем след. элемент, чтобы потом сослаться на него\n",
    "        next = current.next\n",
    "        # Переприсваеваем следующему эл-у резальтирующегося списка значеные предыдущего эл-а в изначальном списка\n",
    "        current.next = prev\n",
    "        # Текущий эл. становится предыдущим\n",
    "        prev = current\n",
    "        # А следующий текущим\n",
    "        current = next\n",
    "\n",
    "    # Начало нового списка - последний эл. текущего\n",
    "    return prev"
   ]
  },
  {
   "cell_type": "code",
   "execution_count": 79,
   "metadata": {},
   "outputs": [],
   "source": [
    "def linked_list_to_list(head):\n",
    "    '''\n",
    "    Create python list from one-way linked list just for the convenience of verification.\n",
    "    '''\n",
    "    output = []\n",
    "    current = head\n",
    "    while current is not None:\n",
    "        output.append(current.value)\n",
    "        current = current.next\n",
    "    \n",
    "    return output"
   ]
  },
  {
   "cell_type": "code",
   "execution_count": 80,
   "metadata": {},
   "outputs": [
    {
     "name": "stdout",
     "output_type": "stream",
     "text": [
      "Мы молодцы, всё работает отлчино!\n"
     ]
    }
   ],
   "source": [
    "def test_reverseLinkedList():\n",
    "    # Пустой список\n",
    "    assert reverseLinkedList(None) is None\n",
    "\n",
    "    # Список из одного элемента\n",
    "    head = create_linked_list([1])\n",
    "    reversed_head = reverseLinkedList(head)\n",
    "    assert linked_list_to_list(reversed_head) == [1]\n",
    "\n",
    "    # Список из нескольких элементов\n",
    "    head = create_linked_list([1, 2, 3, 4, 5])\n",
    "    reversed_head = reverseLinkedList(head)\n",
    "    assert linked_list_to_list(reversed_head) == [5, 4, 3, 2, 1]\n",
    "\n",
    "    # Список с отрицательными числами\n",
    "    head = create_linked_list([-1, -2, -3, -4])\n",
    "    reversed_head = reverseLinkedList(head)\n",
    "    assert linked_list_to_list(reversed_head) == [-4, -3, -2, -1]\n",
    "\n",
    "    # Список с одним нулевым элементом\n",
    "    head = create_linked_list([0])\n",
    "    reversed_head = reverseLinkedList(head)\n",
    "    assert linked_list_to_list(reversed_head) == [0]\n",
    "\n",
    "    print(\"Мы молодцы, всё работает отлчино!\")\n",
    "\n",
    "test_reverseLinkedList()"
   ]
  },
  {
   "cell_type": "markdown",
   "metadata": {},
   "source": [
    "# Middle Mode\n",
    "Дан связный список. Необходимо найти середину списка. Сделать это необходимо за _O(n)_ без дополнительных аллокаций."
   ]
  },
  {
   "cell_type": "code",
   "execution_count": 81,
   "metadata": {},
   "outputs": [],
   "source": [
    "# Создадим класс для нод списка\n",
    "class ListNode:\n",
    "    def __init__(self, value=0, next=None):\n",
    "        self.value = value\n",
    "        self.next = next\n",
    "\n",
    "\n",
    "def create_linked_list(nums):\n",
    "    '''\n",
    "    Creates one-way linked list from nums\n",
    "\n",
    "    Return: head of result list\n",
    "    '''\n",
    "    if not nums:\n",
    "        return None\n",
    "    \n",
    "    head = ListNode(nums[0])\n",
    "    current = head\n",
    "\n",
    "    for val in nums[1:]:\n",
    "        current.next = ListNode(val)\n",
    "        current = current.next\n",
    "\n",
    "    return head"
   ]
  },
  {
   "cell_type": "code",
   "execution_count": 82,
   "metadata": {},
   "outputs": [],
   "source": [
    "def middleNode(head):\n",
    "\n",
    "    # Создадим быстрый и медленный указатель\n",
    "    slow = fast = head\n",
    "\n",
    "    # Двигаем fast в два раза быстрее, чем slow пока не кончится список\n",
    "    while fast != None and fast.next != None:\n",
    "        slow = slow.next\n",
    "        fast = fast.next.next\n",
    "\n",
    "    # Возвращаем slow, т.к. к концу списка он будет на середине\n",
    "    return slow"
   ]
  },
  {
   "cell_type": "code",
   "execution_count": 83,
   "metadata": {},
   "outputs": [
    {
     "name": "stdout",
     "output_type": "stream",
     "text": [
      "Мы молодцы, всё работает отлчино!\n"
     ]
    }
   ],
   "source": [
    "def test_middleNode():\n",
    "    # Пустой список\n",
    "    assert middleNode(None) == None\n",
    "\n",
    "    # Общий случай (нечётное количество нод)\n",
    "    head = create_linked_list([3, 8, 9, 6, 11, 16, 17])\n",
    "    assert middleNode(head).value == 6\n",
    "\n",
    "    # Общий случай (чётное количество нод)\n",
    "    head = create_linked_list([3, 8, 9, 6, 7, 11, 16, 17])\n",
    "    assert middleNode(head).value == 7\n",
    "    \n",
    "    # Список с единственной нодой\n",
    "    head = create_linked_list([1])\n",
    "    assert middleNode(head).value == 1\n",
    "\n",
    "    print(\"Мы молодцы, всё работает отлчино!\")\n",
    "\n",
    "test_middleNode()"
   ]
  },
  {
   "cell_type": "markdown",
   "metadata": {},
   "source": [
    "# Remove Elements\n",
    "Необходимо написать функцию, которая принимает на вход односвязный список и некоторое целое число _val_. Необходимо удалить узел из списка, значение которого равно _val_."
   ]
  },
  {
   "cell_type": "code",
   "execution_count": 84,
   "metadata": {},
   "outputs": [],
   "source": [
    "# Создадим класс для нод списка\n",
    "class ListNode:\n",
    "    def __init__(self, value=0, next=None):\n",
    "        self.value = value\n",
    "        self.next = next\n",
    "\n",
    "\n",
    "def create_linked_list(nums):\n",
    "    '''\n",
    "    Creates one-way linked list from nums\n",
    "\n",
    "    Return: head of result list\n",
    "    '''\n",
    "    if not nums:\n",
    "        return None\n",
    "    \n",
    "    head = ListNode(nums[0])\n",
    "    current = head\n",
    "\n",
    "    for val in nums[1:]:\n",
    "        current.next = ListNode(val)\n",
    "        current = current.next\n",
    "\n",
    "    return head\n",
    "\n",
    "\n",
    "def linked_list_to_list(head):\n",
    "    '''\n",
    "    Create python list from one-way linked list just for the convenience of verification.\n",
    "    '''\n",
    "    output = []\n",
    "    current = head\n",
    "    while current is not None:\n",
    "        output.append(current.value)\n",
    "        current = current.next\n",
    "    \n",
    "    return output"
   ]
  },
  {
   "cell_type": "code",
   "execution_count": 85,
   "metadata": {},
   "outputs": [],
   "source": [
    "def removeElements(head, val):\n",
    "    # None, если список пустой\n",
    "    if head is None:\n",
    "        return None\n",
    "\n",
    "    # Создаём переменную в начале списка на случай, если искомый эл. первый\n",
    "    dummy = ListNode(next=head)\n",
    "    prev = dummy\n",
    "    cur = head\n",
    "\n",
    "    # Двигаемся по списку, проверяем значения на соответствие val\n",
    "    while cur != None:\n",
    "        # Если значение текущей ноды == val, переприсваем след. эл в качестве next для предыдущего\n",
    "        if cur.value == val:\n",
    "            prev.next = cur.next\n",
    "        else:\n",
    "            prev = cur\n",
    "        cur = cur.next\n",
    "\n",
    "    # Возвращаем новый head не считая пустышки dummy\n",
    "    return dummy.next"
   ]
  },
  {
   "cell_type": "code",
   "execution_count": 86,
   "metadata": {},
   "outputs": [
    {
     "name": "stdout",
     "output_type": "stream",
     "text": [
      "Мы молодцы, всё работает отлчино!\n"
     ]
    }
   ],
   "source": [
    "def test_removeElements():\n",
    "    # Пустой список\n",
    "    assert removeElements(None, 52) == None\n",
    "\n",
    "    # Общий случай\n",
    "    head = create_linked_list([1, 2, 3, 4])\n",
    "    new_head = removeElements(head, 3)\n",
    "    assert linked_list_to_list(new_head) == [1, 2, 4]\n",
    "    \n",
    "    # Удаляем первый элемент\n",
    "    head = create_linked_list([1, 2, 3, 4])\n",
    "    new_head = removeElements(head, 1)\n",
    "    assert linked_list_to_list(new_head) == [2, 3, 4]\n",
    "    \n",
    "    # Удаляем последний элемент\n",
    "    head = create_linked_list([1, 2, 3, 4])\n",
    "    new_head = removeElements(head, 4)\n",
    "    assert linked_list_to_list(new_head) == [1, 2, 3]\n",
    "    \n",
    "    # Удаляем несколько одинаковых элементов\n",
    "    head = create_linked_list([1, 2, 2, 2, 3, 4])\n",
    "    new_head = removeElements(head, 2)\n",
    "    assert linked_list_to_list(new_head) == [1, 3, 4]\n",
    "    # Удаляем несколько одинаковых элементов\n",
    "\n",
    "    # Все элементы списка - таргетные\n",
    "    head = create_linked_list([2, 2, 2, 2, 2, 2,])\n",
    "    new_head = removeElements(head, 2)\n",
    "    assert linked_list_to_list(new_head) == []\n",
    "\n",
    "    # В списке нет таргетного значения\n",
    "    head = create_linked_list([1, 2, 2, 2, 3, 4])\n",
    "    new_head = removeElements(head, 6)\n",
    "    assert linked_list_to_list(new_head) == [1, 2, 2, 2, 3, 4]\n",
    "\n",
    "    print(\"Мы молодцы, всё работает отлчино!\")\n",
    "\n",
    "\n",
    "test_removeElements()"
   ]
  },
  {
   "cell_type": "markdown",
   "metadata": {},
   "source": [
    "# Is Subsequence\n",
    "В исходную строку добавили некоторое количество символов. Необходимо выявить, была ли строка `a` исходной для строки `b`."
   ]
  },
  {
   "cell_type": "code",
   "execution_count": 87,
   "metadata": {},
   "outputs": [],
   "source": [
    "def isSubsequence(a, b):\n",
    "    # Указатели для прохода по каждой строке\n",
    "    i, j = 0, 0\n",
    "\n",
    "    # Сравниваем значения строк\n",
    "    while i < len(a) and j < len(b):\n",
    "        if a[i] == b[j]:\n",
    "            i += 1\n",
    "        j += 1\n",
    "\n",
    "    # Если первый список кончился, то они является исходной\n",
    "    return i == len(a)"
   ]
  },
  {
   "cell_type": "code",
   "execution_count": 88,
   "metadata": {},
   "outputs": [
    {
     "name": "stdout",
     "output_type": "stream",
     "text": [
      "Мы молодцы, всё работает отлчино!\n"
     ]
    }
   ],
   "source": [
    "def test_isSubsequence():\n",
    "    # a является подстрокой b\n",
    "    assert isSubsequence('abc', 'asbscs') == True\n",
    "    \n",
    "    # a не является подстрокой b\n",
    "    assert isSubsequence('abc', 'ascs') == False\n",
    "\n",
    "    # a является подстрокой b, a пустая\n",
    "    assert isSubsequence('', 'apjdfh') == True\n",
    "    \n",
    "    # a не является подстрокой b, b пустая\n",
    "    assert isSubsequence('abc', '') == False\n",
    "\n",
    "    # Обе строки пустые\n",
    "    assert isSubsequence('', '') == True\n",
    "\n",
    "    # a длиннее b\n",
    "    assert isSubsequence('abcdefg', 'abc') == False\n",
    "\n",
    "    print(\"Мы молодцы, всё работает отлчино!\")\n",
    "\n",
    "\n",
    "test_isSubsequence()"
   ]
  },
  {
   "cell_type": "markdown",
   "metadata": {},
   "source": [
    "# Is Palindrome\n",
    "Напишите функцию, которая принимает на вход строку и возвращает `true`, если она является палиндромом*. В противном случае верните `false`.\n",
    "\n",
    "*слово или текст, одинаково читающиеся в обоих направлениях."
   ]
  },
  {
   "cell_type": "code",
   "execution_count": 89,
   "metadata": {},
   "outputs": [],
   "source": [
    "def isPalindrome(s):\n",
    "    # Указатели на начало и конец строки\n",
    "    start = 0\n",
    "    end = len(s) - 1\n",
    "\n",
    "    while start < end:\n",
    "        # Сравниваем символы на указателях\n",
    "        # Если разные - строка не палиндром\n",
    "        if s[start] != s[end]:\n",
    "            return False\n",
    "        # Иначе движемся дальше\n",
    "        start += 1\n",
    "        end -= 1\n",
    "        \n",
    "    return True"
   ]
  },
  {
   "cell_type": "code",
   "execution_count": 90,
   "metadata": {},
   "outputs": [
    {
     "name": "stdout",
     "output_type": "stream",
     "text": [
      "Мы молодцы, всё работает отлчино!\n"
     ]
    }
   ],
   "source": [
    "def test_isPalindrome():\n",
    "    # Чётная строка - палиндром\n",
    "    assert isPalindrome('abccba') == True\n",
    "    \n",
    "    # Нечётная строка - палиндром\n",
    "    assert isPalindrome('abcba') == True\n",
    "    \n",
    "    # Строка с динственным символом - палиндром\n",
    "    assert isPalindrome('a') == True\n",
    "    \n",
    "    # Пустая строка\n",
    "    assert isPalindrome('') == True\n",
    "    \n",
    "    # Строка не палиндром\n",
    "    assert isPalindrome('amogus') == False\n",
    "\n",
    "    print(\"Мы молодцы, всё работает отлчино!\")\n",
    "\n",
    "\n",
    "test_isPalindrome()"
   ]
  },
  {
   "cell_type": "markdown",
   "metadata": {},
   "source": [
    "# Merge Sorted Arrays\n",
    "Написать функцию, которая принимает на вход два отсортированных односвязных списка и объединяет их в один отсортированный список. При этом затраты по памяти должны быть _O(1)_\n",
    "\n",
    "Входные данные: `list1 = [3, 6, 8]`, `list2 = [4, 7, 9, 11]`\n",
    "\n",
    "Выходные: `[3,4,6,7,8,9,11]`"
   ]
  },
  {
   "cell_type": "code",
   "execution_count": 103,
   "metadata": {},
   "outputs": [],
   "source": [
    "# Создадим класс для нод списка\n",
    "class ListNode:\n",
    "    def __init__(self, value=0, next=None):\n",
    "        self.value = value\n",
    "        self.next = next\n",
    "\n",
    "\n",
    "def create_linked_list(nums):\n",
    "    '''\n",
    "    Creates one-way linked list from nums\n",
    "\n",
    "    Return: head of result list\n",
    "    '''\n",
    "    if not nums:\n",
    "        return None\n",
    "    \n",
    "    head = ListNode(nums[0])\n",
    "    current = head\n",
    "\n",
    "    for val in nums[1:]:\n",
    "        current.next = ListNode(val)\n",
    "        current = current.next\n",
    "\n",
    "    return head\n",
    "\n",
    "\n",
    "def linked_list_to_list(head):\n",
    "    '''\n",
    "    Create python list from one-way linked list just for the convenience of verification.\n",
    "    '''\n",
    "    output = []\n",
    "    current = head\n",
    "    while current is not None:\n",
    "        output.append(current.value)\n",
    "        current = current.next\n",
    "    \n",
    "    return output"
   ]
  },
  {
   "cell_type": "code",
   "execution_count": null,
   "metadata": {},
   "outputs": [],
   "source": [
    "def mergeSortedArray(head1, head2):\n",
    "    # dummy для начала результирующего списка\n",
    "    dummy = ListNode()\n",
    "    current = dummy\n",
    "\n",
    "    # Меньшее из значений нод привязывает в current.next\n",
    "    while head1 and head2:\n",
    "        if head1.value < head2.value:\n",
    "            current.next = head1\n",
    "            head1 = head1.next\n",
    "        else:\n",
    "            current.next = head2\n",
    "            head2 = head2.next\n",
    "        # Идём дальше по результирующему списку\n",
    "        current = current.next\n",
    "\n",
    "    # Добавляем остатки списков, если такие есть\n",
    "    if head1:\n",
    "        current.next = head1\n",
    "    else:\n",
    "        current.next = head2\n",
    "\n",
    "    # Возвращаем настоящий head\n",
    "    return dummy.next"
   ]
  },
  {
   "cell_type": "code",
   "execution_count": 111,
   "metadata": {},
   "outputs": [
    {
     "name": "stdout",
     "output_type": "stream",
     "text": [
      "Мы молодцы, всё работает отлчино!\n"
     ]
    }
   ],
   "source": [
    "def test_mergeSortedArray():\n",
    "    # Общий случай\n",
    "    list1 = create_linked_list([3, 6, 8])\n",
    "    list2 = create_linked_list([4, 7, 9, 11])\n",
    "    assert linked_list_to_list(mergeSortedArray(list1, list2)) == [3, 4, 6, 7, 8, 9, 11]\n",
    "\n",
    "    # Один список пустой\n",
    "    list1 = create_linked_list([])\n",
    "    list2 = create_linked_list([4, 7, 9, 11])\n",
    "    assert linked_list_to_list(mergeSortedArray(list1, list2)) == [4, 7, 9, 11]\n",
    "    \n",
    "    # Оба списка пустые\n",
    "    list1 = create_linked_list([])\n",
    "    list2 = create_linked_list([])\n",
    "    assert linked_list_to_list(mergeSortedArray(list1, list2)) == []\n",
    "    \n",
    "    # Списки разной длины\n",
    "    list1 = create_linked_list([3])\n",
    "    list2 = create_linked_list([1, 4, 5, 6, 7])\n",
    "    assert linked_list_to_list(mergeSortedArray(list1, list2)) == [1, 3, 4, 5, 6, 7]\n",
    "    \n",
    "    # В списках есть одинаковые элементы\n",
    "    list1 = create_linked_list([3, 3])\n",
    "    list2 = create_linked_list([1, 3, 6, 7])\n",
    "    assert linked_list_to_list(mergeSortedArray(list1, list2)) == [1, 3, 3, 3, 6, 7]\n",
    "\n",
    "    # Все элементы одного списка меньше элементов другого\n",
    "    list1 = create_linked_list([1, 2, 3])\n",
    "    list2 = create_linked_list([4, 5, 6])\n",
    "    assert linked_list_to_list(mergeSortedArray(list1, list2)) == [1, 2, 3, 4, 5, 6]\n",
    "\n",
    "    print(\"Мы молодцы, всё работает отлчино!\")\n",
    "\n",
    "test_mergeSortedArray()"
   ]
  }
 ],
 "metadata": {
  "kernelspec": {
   "display_name": "Python 3",
   "language": "python",
   "name": "python3"
  },
  "language_info": {
   "codemirror_mode": {
    "name": "ipython",
    "version": 3
   },
   "file_extension": ".py",
   "mimetype": "text/x-python",
   "name": "python",
   "nbconvert_exporter": "python",
   "pygments_lexer": "ipython3",
   "version": "3.13.1"
  }
 },
 "nbformat": 4,
 "nbformat_minor": 2
}
